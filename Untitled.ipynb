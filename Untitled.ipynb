{
 "cells": [
  {
   "cell_type": "code",
   "execution_count": 2,
   "metadata": {},
   "outputs": [],
   "source": [
    "import tensorflow as tf"
   ]
  },
  {
   "cell_type": "code",
   "execution_count": 8,
   "metadata": {},
   "outputs": [
    {
     "data": {
      "text/plain": [
       "<matplotlib.collections.PathCollection at 0x213a5bad708>"
      ]
     },
     "execution_count": 8,
     "metadata": {},
     "output_type": "execute_result"
    },
    {
     "data": {
      "image/png": "[encoded data removed]",
      "text/plain": [
       "<Figure size 432x288 with 1 Axes>"
      ]
     },
     "metadata": {
      "needs_background": "light"
     },
     "output_type": "display_data"
    }
   ],
   "source": [
    "\n"
   ]
  },
  {
   "cell_type": "code",
   "execution_count": 13,
   "metadata": {},
   "outputs": [
    {
     "name": "stdout",
     "output_type": "stream",
     "text": [
      "[1]\n",
      "[0]\n"
     ]
    }
   ],
   "source": [
    "p1 = np.array([[2,2]])\n",
    "print(clf.predict(p1))\n",
    "\n",
    "p2 = np.array([[2,4]])\n",
    "print(clf.predict(p2))"
   ]
  },
  {
   "cell_type": "code",
   "execution_count": 5,
   "metadata": {},
   "outputs": [
    {
     "name": "stdout",
     "output_type": "stream",
     "text": [
      "2.1.0\n",
      "Train on 54000 samples, validate on 6000 samples\n",
      "Epoch 1/10\n",
      "54000/54000 [==============================] - 12s 219us/sample - loss: 0.3149 - sparse_categorical_accuracy: 0.9080 - val_loss: 0.1232 - val_sparse_categorical_accuracy: 0.9655\n",
      "Epoch 2/10\n",
      "54000/54000 [==============================] - 6s 117us/sample - loss: 0.1468 - sparse_categorical_accuracy: 0.9571 - val_loss: 0.0899 - val_sparse_categorical_accuracy: 0.9752\n",
      "Epoch 3/10\n",
      "54000/54000 [==============================] - 10s 193us/sample - loss: 0.1126 - sparse_categorical_accuracy: 0.9658 - val_loss: 0.0842 - val_sparse_categorical_accuracy: 0.9753\n",
      "Epoch 4/10\n",
      "54000/54000 [==============================] - 12s 214us/sample - loss: 0.0906 - sparse_categorical_accuracy: 0.9725 - val_loss: 0.0734 - val_sparse_categorical_accuracy: 0.9785\n",
      "Epoch 5/10\n",
      "54000/54000 [==============================] - 12s 215us/sample - loss: 0.0788 - sparse_categorical_accuracy: 0.9755 - val_loss: 0.0742 - val_sparse_categorical_accuracy: 0.9775\n",
      "Epoch 6/10\n",
      "54000/54000 [==============================] - 9s 175us/sample - loss: 0.0678 - sparse_categorical_accuracy: 0.9787 - val_loss: 0.0730 - val_sparse_categorical_accuracy: 0.9783\n",
      "Epoch 7/10\n",
      "54000/54000 [==============================] - 11s 197us/sample - loss: 0.0603 - sparse_categorical_accuracy: 0.9811 - val_loss: 0.0714 - val_sparse_categorical_accuracy: 0.9782\n",
      "Epoch 8/10\n",
      "54000/54000 [==============================] - 9s 165us/sample - loss: 0.0563 - sparse_categorical_accuracy: 0.9813 - val_loss: 0.0653 - val_sparse_categorical_accuracy: 0.9828\n",
      "Epoch 9/10\n",
      "54000/54000 [==============================] - 8s 145us/sample - loss: 0.0498 - sparse_categorical_accuracy: 0.9837 - val_loss: 0.0684 - val_sparse_categorical_accuracy: 0.9823\n",
      "Epoch 10/10\n",
      "54000/54000 [==============================] - 10s 187us/sample - loss: 0.0451 - sparse_categorical_accuracy: 0.9849 - val_loss: 0.0722 - val_sparse_categorical_accuracy: 0.9830\n",
      "10000/10000 - 1s - loss: 0.0708 - sparse_categorical_accuracy: 0.9798\n",
      "Model: \"sequential\"\n",
      "_________________________________________________________________\n",
      "Layer (type)                 Output Shape              Param #   \n",
      "=================================================================\n",
      "flatten (Flatten)            (None, 784)               0         \n",
      "_________________________________________________________________\n",
      "dense (Dense)                (None, 128)               100480    \n",
      "_________________________________________________________________\n",
      "dropout (Dropout)            (None, 128)               0         \n",
      "_________________________________________________________________\n",
      "dense_1 (Dense)              (None, 10)                1290      \n",
      "=================================================================\n",
      "Total params: 101,770\n",
      "Trainable params: 101,770\n",
      "Non-trainable params: 0\n",
      "_________________________________________________________________\n",
      "Test loss: 0.07075315615415456\n",
      "Test accuracy: 0.9798\n",
      "\n",
      "History dict: {'loss': [0.31489896323062755, 0.14676012473829367, 0.11264789095451987, 0.09056619716277, 0.07876907311655856, 0.06780441134064286, 0.06025780481820995, 0.05630662155116874, 0.0498189932603596, 0.04508566136152001], 'sparse_categorical_accuracy': [0.90803707, 0.95705557, 0.96577775, 0.97253704, 0.97553706, 0.9786852, 0.98105556, 0.98131484, 0.98366666, 0.98485184], 'val_loss': [0.1231929612159729, 0.08988177481045326, 0.08415133066785832, 0.07340256251146396, 0.07424206548370421, 0.07298457114895185, 0.07144368582152917, 0.0653489989861846, 0.068358493778777, 0.0721791939654892], 'val_sparse_categorical_accuracy': [0.9655, 0.9751667, 0.97533333, 0.9785, 0.9775, 0.97833335, 0.97816664, 0.9828333, 0.98233336, 0.983]}\n"
     ]
    },
    {
     "ename": "NameError",
     "evalue": "name 'plot_model_history' is not defined",
     "output_type": "error",
     "traceback": [
      "\u001b[1;31m---------------------------------------------------------------------------\u001b[0m",
      "\u001b[1;31mNameError\u001b[0m                                 Traceback (most recent call last)",
      "\u001b[1;32m<ipython-input-5-05f4f9bb2f50>\u001b[0m in \u001b[0;36m<module>\u001b[1;34m\u001b[0m\n\u001b[0;32m     54\u001b[0m \u001b[0mprint\u001b[0m\u001b[1;33m(\u001b[0m\u001b[1;34m'\\nHistory dict:'\u001b[0m\u001b[1;33m,\u001b[0m \u001b[0mhistory\u001b[0m\u001b[1;33m.\u001b[0m\u001b[0mhistory\u001b[0m\u001b[1;33m)\u001b[0m\u001b[1;33m\u001b[0m\u001b[1;33m\u001b[0m\u001b[0m\n\u001b[0;32m     55\u001b[0m \u001b[1;33m\u001b[0m\u001b[0m\n\u001b[1;32m---> 56\u001b[1;33m \u001b[0mplot_model_history\u001b[0m\u001b[1;33m(\u001b[0m\u001b[0mhistory\u001b[0m\u001b[1;33m)\u001b[0m\u001b[1;33m\u001b[0m\u001b[1;33m\u001b[0m\u001b[0m\n\u001b[0m",
      "\u001b[1;31mNameError\u001b[0m: name 'plot_model_history' is not defined"
     ]
    }
   ],
   "source": [
    "import tensorflow as tf\n",
    "import matplotlib.pyplot as plt\n",
    "import numpy as np\n",
    "from tensorflow import keras\n",
    "\n",
    "from tensorflow.keras import Sequential\n",
    "from tensorflow.keras.layers import Dense, Dropout, Flatten\n",
    "from tensorflow.keras.layers import Conv2D, MaxPooling2D\n",
    "from tensorflow.keras.datasets import mnist\n",
    "\n",
    "# from helpers import *\n",
    "print(tf.__version__)\n",
    "\n",
    "batch_size = 16\n",
    "num_classes = 10\n",
    "epochs = 10\n",
    "\n",
    "# input image dimensions\n",
    "img_rows, img_cols = 28, 28\n",
    "\n",
    "# the data, split between train and test sets\n",
    "(x_train, y_train), (x_test, y_test) = mnist.load_data()\n",
    "\n",
    "\n",
    "class_names = ['0', '1', '2', '3', '4', '5', '6', '7', '8', '9']\n",
    "\n",
    "# Showing a few examples\n",
    "# show_image_examples(class_names, x_train, y_train)\n",
    "\n",
    "x_train, x_test = x_train / 255.0, x_test / 255.0\n",
    "\n",
    "model = tf.keras.models.Sequential([\n",
    "  tf.keras.layers.Flatten(input_shape=(28, 28)),\n",
    "  tf.keras.layers.Dense(128, activation='relu'),\n",
    "  tf.keras.layers.Dropout(0.2),\n",
    "  tf.keras.layers.Dense(10, activation='softmax')\n",
    "])\n",
    "\n",
    "\n",
    "model.compile(optimizer=keras.optimizers.Adam(),  # Optimizer\n",
    "              # Loss function to minimize\n",
    "              loss=keras.losses.SparseCategoricalCrossentropy(),\n",
    "              # List of metrics to monitor\n",
    "              metrics=[keras.metrics.SparseCategoricalAccuracy()])\n",
    "\n",
    "history = model.fit(x_train, y_train, epochs=epochs, validation_split=0.1)\n",
    "\n",
    "score = model.evaluate(x_test,  y_test, verbose=2)\n",
    "\n",
    "model.summary()\n",
    "\n",
    "print('Test loss:', score[0])\n",
    "print('Test accuracy:', score[1])\n",
    "print('\\nHistory dict:', history.history)\n",
    "    \n",
    "plot_model_history(history)"
   ]
  },
  {
   "cell_type": "code",
   "execution_count": null,
   "metadata": {},
   "outputs": [],
   "source": []
  }
 ],
 "metadata": {
  "kernelspec": {
   "display_name": "Python 3",
   "language": "python",
   "name": "python3"
  },
  "language_info": {
   "codemirror_mode": {
    "name": "ipython",
    "version": 3
   },
   "file_extension": ".py",
   "mimetype": "text/x-python",
   "name": "python",
   "nbconvert_exporter": "python",
   "pygments_lexer": "ipython3",
   "version": "3.7.4"
  }
 },
 "nbformat": 4,
 "nbformat_minor": 4
}
